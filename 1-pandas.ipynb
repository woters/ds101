{
 "cells": [
  {
   "cell_type": "markdown",
   "metadata": {},
   "source": [
    "# 1 - Introduction to Pandas [45 min]"
   ]
  },
  {
   "cell_type": "markdown",
   "metadata": {},
   "source": [
    "### Learning objectives:\n",
    "\n",
    "- Reading and writing data\n",
    "\n",
    "- Understading and formatting pandas data types\n",
    "\n",
    "- Working with text data\n",
    "    \n",
    "- Working with timeseries data\n",
    "\n",
    "- Indexing\n",
    "\n",
    "- Grouping\n",
    "\n",
    "- Plotting\n",
    "\n",
    "    "
   ]
  },
  {
   "cell_type": "markdown",
   "metadata": {},
   "source": [
    "## Dataset"
   ]
  },
  {
   "cell_type": "markdown",
   "metadata": {},
   "source": [
    "We have some data from an [Amazon Product](http://jmcauley.ucsd.edu/data/amazon/) scrape by [Julian McAuley](http://cseweb.ucsd.edu/~jmcauley/). If you use this data please cite Julian!"
   ]
  },
  {
   "cell_type": "markdown",
   "metadata": {},
   "source": [
    "    reviewerID - ID of the reviewer, e.g. A2SUAM1J3GNN3B\n",
    "    asin - ID of the product, e.g. 0000013714\n",
    "    reviewerName - name of the reviewer\n",
    "    helpful - helpfulness rating of the review, e.g. 2/3\n",
    "    reviewText - text of the review\n",
    "    overall - rating of the product\n",
    "    summary - summary of the review\n",
    "    unixReviewTime - time of the review (unix time)\n",
    "    reviewTime - time of the review (raw)"
   ]
  },
  {
   "cell_type": "markdown",
   "metadata": {},
   "source": [
    "## Import pandas"
   ]
  },
  {
   "cell_type": "code",
   "execution_count": 1,
   "metadata": {
    "collapsed": false
   },
   "outputs": [
    {
     "name": "stdout",
     "output_type": "stream",
     "text": [
      "Pandas version: 0.18.1\n"
     ]
    }
   ],
   "source": [
    "import pandas as pd\n",
    "print(\"Pandas version: {}\".format(pd.__version__))\n",
    "\n",
    "# Edit some default display options\n",
    "pd.options.display.max_rows = 6\n",
    "pd.options.display.max_columns = 8\n",
    "pd.options.display.width = 100"
   ]
  },
  {
   "cell_type": "markdown",
   "metadata": {},
   "source": [
    "## Reading and writing data"
   ]
  },
  {
   "cell_type": "code",
   "execution_count": 2,
   "metadata": {
    "collapsed": false
   },
   "outputs": [
    {
     "name": "stdout",
     "output_type": "stream",
     "text": [
      "{\"reviewerID\": \"A1KLRMWW2FWPL4\", \"asin\": \"0000031887\", \"reviewerName\": \"Amazon Customer \\\"cameramom\\\"\", \"helpful\": [0, 0], \"reviewText\": \"This is a great tutu and at a really great price. It doesn't look cheap at all. I'm so glad I looked on Amazon and found such an affordable tutu that isn't made poorly. A++\", \"overall\": 5.0, \"summary\": \"Great tutu-  not cheaply made\", \"unixReviewTime\": 1297468800, \"reviewTime\": \"02 12, 2011\"}\r\n",
      "{\"reviewerID\": \"A2G5TCU2WDFZ65\", \"asin\": \"0000031887\", \"reviewerName\": \"Amazon Customer\", \"helpful\": [0, 0], \"reviewText\": \"I bought this for my 4 yr old daughter for dance class, she wore it today for the first time and the teacher thought it was adorable. I bought this to go with a light blue long sleeve leotard and was happy the colors matched up great. Price was very good too since some of these go for over $15.00 dollars.\", \"overall\": 5.0, \"summary\": \"Very Cute!!\", \"unixReviewTime\": 1358553600, \"reviewTime\": \"01 19, 2013\"}\r\n",
      "gzcat: error writing to output: Broken pipe\r\n",
      "gzcat: data/reviews/reviews_Clothing_Shoes_and_Jewelry_5.json.gz: uncompress failed\r\n"
     ]
    }
   ],
   "source": [
    "!gzcat data/reviews/reviews_Clothing_Shoes_and_Jewelry_5.json.gz | head -2"
   ]
  },
  {
   "cell_type": "markdown",
   "metadata": {},
   "source": [
    "Oph! This is JSON Lines not JSON! Let's load it into lines"
   ]
  },
  {
   "cell_type": "code",
   "execution_count": 3,
   "metadata": {
    "collapsed": false
   },
   "outputs": [
    {
     "data": {
      "text/plain": [
       "278677"
      ]
     },
     "execution_count": 3,
     "metadata": {},
     "output_type": "execute_result"
    }
   ],
   "source": [
    "import gzip\n",
    "review_lines = gzip.open('data/reviews/reviews_Clothing_Shoes_and_Jewelry_5.json.gz', 'rt').readlines()\n",
    "len(review_lines)"
   ]
  },
  {
   "cell_type": "markdown",
   "metadata": {},
   "source": [
    "Now we have something, but it's a lot of lines. So we load it into a `DataFrame`, an object that is the data hacker's go to for manipulating structured data. \n",
    "\n",
    "Unfortunately, its not as straight forward as `pd.read_json`, since first we have to turn all those JSON strings into Python objects, so let's turn each into a dict and then build a `DataFrame`"
   ]
  },
  {
   "cell_type": "code",
   "execution_count": 4,
   "metadata": {
    "collapsed": true
   },
   "outputs": [],
   "source": [
    "import json\n",
    "df = pd.DataFrame(list(map(json.loads, review_lines)))"
   ]
  },
  {
   "cell_type": "code",
   "execution_count": 5,
   "metadata": {
    "collapsed": false
   },
   "outputs": [
    {
     "data": {
      "text/html": [
       "<div>\n",
       "<table border=\"1\" class=\"dataframe\">\n",
       "  <thead>\n",
       "    <tr style=\"text-align: right;\">\n",
       "      <th></th>\n",
       "      <th>asin</th>\n",
       "      <th>helpful</th>\n",
       "      <th>overall</th>\n",
       "      <th>reviewText</th>\n",
       "      <th>...</th>\n",
       "      <th>reviewerID</th>\n",
       "      <th>reviewerName</th>\n",
       "      <th>summary</th>\n",
       "      <th>unixReviewTime</th>\n",
       "    </tr>\n",
       "  </thead>\n",
       "  <tbody>\n",
       "    <tr>\n",
       "      <th>0</th>\n",
       "      <td>0000031887</td>\n",
       "      <td>[0, 0]</td>\n",
       "      <td>5.0</td>\n",
       "      <td>This is a great tutu and at a really great pri...</td>\n",
       "      <td>...</td>\n",
       "      <td>A1KLRMWW2FWPL4</td>\n",
       "      <td>Amazon Customer \"cameramom\"</td>\n",
       "      <td>Great tutu-  not cheaply made</td>\n",
       "      <td>1297468800</td>\n",
       "    </tr>\n",
       "    <tr>\n",
       "      <th>1</th>\n",
       "      <td>0000031887</td>\n",
       "      <td>[0, 0]</td>\n",
       "      <td>5.0</td>\n",
       "      <td>I bought this for my 4 yr old daughter for dan...</td>\n",
       "      <td>...</td>\n",
       "      <td>A2G5TCU2WDFZ65</td>\n",
       "      <td>Amazon Customer</td>\n",
       "      <td>Very Cute!!</td>\n",
       "      <td>1358553600</td>\n",
       "    </tr>\n",
       "    <tr>\n",
       "      <th>2</th>\n",
       "      <td>0000031887</td>\n",
       "      <td>[0, 0]</td>\n",
       "      <td>5.0</td>\n",
       "      <td>What can I say... my daughters have it in oran...</td>\n",
       "      <td>...</td>\n",
       "      <td>A1RLQXYNCMWRWN</td>\n",
       "      <td>Carola</td>\n",
       "      <td>I have buy more than one</td>\n",
       "      <td>1357257600</td>\n",
       "    </tr>\n",
       "    <tr>\n",
       "      <th>...</th>\n",
       "      <td>...</td>\n",
       "      <td>...</td>\n",
       "      <td>...</td>\n",
       "      <td>...</td>\n",
       "      <td>...</td>\n",
       "      <td>...</td>\n",
       "      <td>...</td>\n",
       "      <td>...</td>\n",
       "      <td>...</td>\n",
       "    </tr>\n",
       "    <tr>\n",
       "      <th>278674</th>\n",
       "      <td>B00KKXCJQU</td>\n",
       "      <td>[1, 1]</td>\n",
       "      <td>5.0</td>\n",
       "      <td>These are very nice packing cubes and the 18 x...</td>\n",
       "      <td>...</td>\n",
       "      <td>A1UQBFCERIP7VJ</td>\n",
       "      <td>Margaret Picky</td>\n",
       "      <td>Convenient, lightweight, and durable</td>\n",
       "      <td>1402185600</td>\n",
       "    </tr>\n",
       "    <tr>\n",
       "      <th>278675</th>\n",
       "      <td>B00KKXCJQU</td>\n",
       "      <td>[2, 2]</td>\n",
       "      <td>5.0</td>\n",
       "      <td>I am on vacation with my family of four and th...</td>\n",
       "      <td>...</td>\n",
       "      <td>A22CW0ZHY3NJH8</td>\n",
       "      <td>Noname</td>\n",
       "      <td>Holds Up Well In Real World Test</td>\n",
       "      <td>1404691200</td>\n",
       "    </tr>\n",
       "    <tr>\n",
       "      <th>278676</th>\n",
       "      <td>B00KKXCJQU</td>\n",
       "      <td>[0, 1]</td>\n",
       "      <td>5.0</td>\n",
       "      <td>When I signed up to receive a free set of Shac...</td>\n",
       "      <td>...</td>\n",
       "      <td>A30VWT3R25QAVD</td>\n",
       "      <td>THE-DEADLY-DOG \"Living and Loving Life.\"</td>\n",
       "      <td>Don't Travel? Still Way too Useful for 'Averag...</td>\n",
       "      <td>1403481600</td>\n",
       "    </tr>\n",
       "  </tbody>\n",
       "</table>\n",
       "<p>278677 rows × 9 columns</p>\n",
       "</div>"
      ],
      "text/plain": [
       "              asin helpful  overall                                         reviewText  \\\n",
       "0       0000031887  [0, 0]      5.0  This is a great tutu and at a really great pri...   \n",
       "1       0000031887  [0, 0]      5.0  I bought this for my 4 yr old daughter for dan...   \n",
       "2       0000031887  [0, 0]      5.0  What can I say... my daughters have it in oran...   \n",
       "...            ...     ...      ...                                                ...   \n",
       "278674  B00KKXCJQU  [1, 1]      5.0  These are very nice packing cubes and the 18 x...   \n",
       "278675  B00KKXCJQU  [2, 2]      5.0  I am on vacation with my family of four and th...   \n",
       "278676  B00KKXCJQU  [0, 1]      5.0  When I signed up to receive a free set of Shac...   \n",
       "\n",
       "            ...            reviewerID                              reviewerName  \\\n",
       "0           ...        A1KLRMWW2FWPL4               Amazon Customer \"cameramom\"   \n",
       "1           ...        A2G5TCU2WDFZ65                           Amazon Customer   \n",
       "2           ...        A1RLQXYNCMWRWN                                    Carola   \n",
       "...         ...                   ...                                       ...   \n",
       "278674      ...        A1UQBFCERIP7VJ                            Margaret Picky   \n",
       "278675      ...        A22CW0ZHY3NJH8                                    Noname   \n",
       "278676      ...        A30VWT3R25QAVD  THE-DEADLY-DOG \"Living and Loving Life.\"   \n",
       "\n",
       "                                                  summary unixReviewTime  \n",
       "0                           Great tutu-  not cheaply made     1297468800  \n",
       "1                                             Very Cute!!     1358553600  \n",
       "2                                I have buy more than one     1357257600  \n",
       "...                                                   ...            ...  \n",
       "278674               Convenient, lightweight, and durable     1402185600  \n",
       "278675                   Holds Up Well In Real World Test     1404691200  \n",
       "278676  Don't Travel? Still Way too Useful for 'Averag...     1403481600  \n",
       "\n",
       "[278677 rows x 9 columns]"
      ]
     },
     "execution_count": 5,
     "metadata": {},
     "output_type": "execute_result"
    }
   ],
   "source": [
    "df"
   ]
  },
  {
   "cell_type": "markdown",
   "metadata": {},
   "source": [
    "#### EXERCISE: Find a category that interests you in the Amazon Product Data, download the file and write the right path in the cells above "
   ]
  },
  {
   "cell_type": "code",
   "execution_count": 6,
   "metadata": {
    "collapsed": false
   },
   "outputs": [
    {
     "data": {
      "text/html": [
       "<div>\n",
       "<table border=\"1\" class=\"dataframe\">\n",
       "  <thead>\n",
       "    <tr style=\"text-align: right;\">\n",
       "      <th></th>\n",
       "      <th>asin</th>\n",
       "      <th>helpful</th>\n",
       "      <th>overall</th>\n",
       "      <th>reviewText</th>\n",
       "      <th>...</th>\n",
       "      <th>reviewerID</th>\n",
       "      <th>reviewerName</th>\n",
       "      <th>summary</th>\n",
       "      <th>unixReviewTime</th>\n",
       "    </tr>\n",
       "  </thead>\n",
       "  <tbody>\n",
       "    <tr>\n",
       "      <th>0</th>\n",
       "      <td>0000031887</td>\n",
       "      <td>[0, 0]</td>\n",
       "      <td>5.0</td>\n",
       "      <td>This is a great tutu and at a really great pri...</td>\n",
       "      <td>...</td>\n",
       "      <td>A1KLRMWW2FWPL4</td>\n",
       "      <td>Amazon Customer \"cameramom\"</td>\n",
       "      <td>Great tutu-  not cheaply made</td>\n",
       "      <td>1297468800</td>\n",
       "    </tr>\n",
       "    <tr>\n",
       "      <th>1</th>\n",
       "      <td>0000031887</td>\n",
       "      <td>[0, 0]</td>\n",
       "      <td>5.0</td>\n",
       "      <td>I bought this for my 4 yr old daughter for dan...</td>\n",
       "      <td>...</td>\n",
       "      <td>A2G5TCU2WDFZ65</td>\n",
       "      <td>Amazon Customer</td>\n",
       "      <td>Very Cute!!</td>\n",
       "      <td>1358553600</td>\n",
       "    </tr>\n",
       "    <tr>\n",
       "      <th>2</th>\n",
       "      <td>0000031887</td>\n",
       "      <td>[0, 0]</td>\n",
       "      <td>5.0</td>\n",
       "      <td>What can I say... my daughters have it in oran...</td>\n",
       "      <td>...</td>\n",
       "      <td>A1RLQXYNCMWRWN</td>\n",
       "      <td>Carola</td>\n",
       "      <td>I have buy more than one</td>\n",
       "      <td>1357257600</td>\n",
       "    </tr>\n",
       "    <tr>\n",
       "      <th>...</th>\n",
       "      <td>...</td>\n",
       "      <td>...</td>\n",
       "      <td>...</td>\n",
       "      <td>...</td>\n",
       "      <td>...</td>\n",
       "      <td>...</td>\n",
       "      <td>...</td>\n",
       "      <td>...</td>\n",
       "      <td>...</td>\n",
       "    </tr>\n",
       "    <tr>\n",
       "      <th>278674</th>\n",
       "      <td>B00KKXCJQU</td>\n",
       "      <td>[1, 1]</td>\n",
       "      <td>5.0</td>\n",
       "      <td>These are very nice packing cubes and the 18 x...</td>\n",
       "      <td>...</td>\n",
       "      <td>A1UQBFCERIP7VJ</td>\n",
       "      <td>Margaret Picky</td>\n",
       "      <td>Convenient, lightweight, and durable</td>\n",
       "      <td>1402185600</td>\n",
       "    </tr>\n",
       "    <tr>\n",
       "      <th>278675</th>\n",
       "      <td>B00KKXCJQU</td>\n",
       "      <td>[2, 2]</td>\n",
       "      <td>5.0</td>\n",
       "      <td>I am on vacation with my family of four and th...</td>\n",
       "      <td>...</td>\n",
       "      <td>A22CW0ZHY3NJH8</td>\n",
       "      <td>Noname</td>\n",
       "      <td>Holds Up Well In Real World Test</td>\n",
       "      <td>1404691200</td>\n",
       "    </tr>\n",
       "    <tr>\n",
       "      <th>278676</th>\n",
       "      <td>B00KKXCJQU</td>\n",
       "      <td>[0, 1]</td>\n",
       "      <td>5.0</td>\n",
       "      <td>When I signed up to receive a free set of Shac...</td>\n",
       "      <td>...</td>\n",
       "      <td>A30VWT3R25QAVD</td>\n",
       "      <td>THE-DEADLY-DOG \"Living and Loving Life.\"</td>\n",
       "      <td>Don't Travel? Still Way too Useful for 'Averag...</td>\n",
       "      <td>1403481600</td>\n",
       "    </tr>\n",
       "  </tbody>\n",
       "</table>\n",
       "<p>278677 rows × 9 columns</p>\n",
       "</div>"
      ],
      "text/plain": [
       "              asin helpful  overall                                         reviewText  \\\n",
       "0       0000031887  [0, 0]      5.0  This is a great tutu and at a really great pri...   \n",
       "1       0000031887  [0, 0]      5.0  I bought this for my 4 yr old daughter for dan...   \n",
       "2       0000031887  [0, 0]      5.0  What can I say... my daughters have it in oran...   \n",
       "...            ...     ...      ...                                                ...   \n",
       "278674  B00KKXCJQU  [1, 1]      5.0  These are very nice packing cubes and the 18 x...   \n",
       "278675  B00KKXCJQU  [2, 2]      5.0  I am on vacation with my family of four and th...   \n",
       "278676  B00KKXCJQU  [0, 1]      5.0  When I signed up to receive a free set of Shac...   \n",
       "\n",
       "            ...            reviewerID                              reviewerName  \\\n",
       "0           ...        A1KLRMWW2FWPL4               Amazon Customer \"cameramom\"   \n",
       "1           ...        A2G5TCU2WDFZ65                           Amazon Customer   \n",
       "2           ...        A1RLQXYNCMWRWN                                    Carola   \n",
       "...         ...                   ...                                       ...   \n",
       "278674      ...        A1UQBFCERIP7VJ                            Margaret Picky   \n",
       "278675      ...        A22CW0ZHY3NJH8                                    Noname   \n",
       "278676      ...        A30VWT3R25QAVD  THE-DEADLY-DOG \"Living and Loving Life.\"   \n",
       "\n",
       "                                                  summary unixReviewTime  \n",
       "0                           Great tutu-  not cheaply made     1297468800  \n",
       "1                                             Very Cute!!     1358553600  \n",
       "2                                I have buy more than one     1357257600  \n",
       "...                                                   ...            ...  \n",
       "278674               Convenient, lightweight, and durable     1402185600  \n",
       "278675                   Holds Up Well In Real World Test     1404691200  \n",
       "278676  Don't Travel? Still Way too Useful for 'Averag...     1403481600  \n",
       "\n",
       "[278677 rows x 9 columns]"
      ]
     },
     "execution_count": 6,
     "metadata": {},
     "output_type": "execute_result"
    }
   ],
   "source": [
    "df"
   ]
  },
  {
   "cell_type": "markdown",
   "metadata": {},
   "source": [
    "### EXERCISE: Save and load the dataset into different formats (CSV, HDF5...)"
   ]
  },
  {
   "cell_type": "code",
   "execution_count": 7,
   "metadata": {
    "collapsed": true
   },
   "outputs": [],
   "source": [
    "# Your code here"
   ]
  },
  {
   "cell_type": "markdown",
   "metadata": {},
   "source": [
    "http://pandas.pydata.org/pandas-docs/stable/io.html"
   ]
  },
  {
   "cell_type": "markdown",
   "metadata": {},
   "source": [
    "The pandas I/O API is a set of top level reader functions accessed like pd.read_csv() that generally return a pandas object.\n",
    "\n",
    "    read_csv\n",
    "    read_excel\n",
    "    read_hdf\n",
    "    read_sql\n",
    "    read_json\n",
    "    ...\n",
    "\n",
    "The corresponding writer functions are object methods that are accessed like df.to_csv()\n",
    "\n",
    "    to_csv\n",
    "    to_excel\n",
    "    to_hdf\n",
    "    to_sql\n",
    "    to_json\n",
    "    ..."
   ]
  },
  {
   "cell_type": "markdown",
   "metadata": {},
   "source": [
    "## Understading and formatting pandas data types"
   ]
  },
  {
   "cell_type": "code",
   "execution_count": 8,
   "metadata": {
    "collapsed": false
   },
   "outputs": [
    {
     "name": "stdout",
     "output_type": "stream",
     "text": [
      "<class 'pandas.core.frame.DataFrame'>\n",
      "RangeIndex: 278677 entries, 0 to 278676\n",
      "Data columns (total 9 columns):\n",
      "asin              278677 non-null object\n",
      "helpful           278677 non-null object\n",
      "overall           278677 non-null float64\n",
      "reviewText        278677 non-null object\n",
      "reviewTime        278677 non-null object\n",
      "reviewerID        278677 non-null object\n",
      "reviewerName      278225 non-null object\n",
      "summary           278677 non-null object\n",
      "unixReviewTime    278677 non-null int64\n",
      "dtypes: float64(1), int64(1), object(7)\n",
      "memory usage: 19.1+ MB\n"
     ]
    }
   ],
   "source": [
    "df.info()"
   ]
  },
  {
   "cell_type": "code",
   "execution_count": 9,
   "metadata": {
    "collapsed": false
   },
   "outputs": [],
   "source": [
    "df['unixReviewTime'] = pd.to_datetime(df['unixReviewTime'], unit='s')"
   ]
  },
  {
   "cell_type": "code",
   "execution_count": 10,
   "metadata": {
    "collapsed": false
   },
   "outputs": [
    {
     "name": "stdout",
     "output_type": "stream",
     "text": [
      "<class 'pandas.core.frame.DataFrame'>\n",
      "RangeIndex: 278677 entries, 0 to 278676\n",
      "Data columns (total 9 columns):\n",
      "asin              278677 non-null object\n",
      "helpful           278677 non-null object\n",
      "overall           278677 non-null float64\n",
      "reviewText        278677 non-null object\n",
      "reviewTime        278677 non-null object\n",
      "reviewerID        278677 non-null object\n",
      "reviewerName      278225 non-null object\n",
      "summary           278677 non-null object\n",
      "unixReviewTime    278677 non-null datetime64[ns]\n",
      "dtypes: datetime64[ns](1), float64(1), object(7)\n",
      "memory usage: 19.1+ MB\n"
     ]
    }
   ],
   "source": [
    "df.info()"
   ]
  },
  {
   "cell_type": "markdown",
   "metadata": {},
   "source": [
    "## Working with text data"
   ]
  },
  {
   "cell_type": "markdown",
   "metadata": {},
   "source": [
    "http://pandas.pydata.org/pandas-docs/stable/text.html"
   ]
  },
  {
   "cell_type": "markdown",
   "metadata": {},
   "source": [
    "### .str accessor"
   ]
  },
  {
   "cell_type": "code",
   "execution_count": 11,
   "metadata": {
    "collapsed": false
   },
   "outputs": [
    {
     "data": {
      "text/plain": [
       "0                             Great tutu-  not cheaply made\n",
       "1                                               Very Cute!!\n",
       "2                                  I have buy more than one\n",
       "                                ...                        \n",
       "278674                 Convenient, lightweight, and durable\n",
       "278675                     Holds Up Well In Real World Test\n",
       "278676    Don't Travel? Still Way too Useful for 'Averag...\n",
       "Name: summary, dtype: object"
      ]
     },
     "execution_count": 11,
     "metadata": {},
     "output_type": "execute_result"
    }
   ],
   "source": [
    "df.summary"
   ]
  },
  {
   "cell_type": "code",
   "execution_count": 12,
   "metadata": {
    "collapsed": false
   },
   "outputs": [
    {
     "data": {
      "text/plain": [
       "0         29\n",
       "1         11\n",
       "2         24\n",
       "          ..\n",
       "278674    36\n",
       "278675    32\n",
       "278676    52\n",
       "Name: summary, dtype: int64"
      ]
     },
     "execution_count": 12,
     "metadata": {},
     "output_type": "execute_result"
    }
   ],
   "source": [
    "df.summary.str.len()"
   ]
  },
  {
   "cell_type": "markdown",
   "metadata": {},
   "source": [
    "### EXERCISE: Check different string methods, e.g. lower(), upper(), strip()..."
   ]
  },
  {
   "cell_type": "markdown",
   "metadata": {},
   "source": [
    "http://pandas.pydata.org/pandas-docs/stable/text.html#method-summary"
   ]
  },
  {
   "cell_type": "code",
   "execution_count": 13,
   "metadata": {
    "collapsed": true
   },
   "outputs": [],
   "source": [
    "# Your code here"
   ]
  },
  {
   "cell_type": "code",
   "execution_count": 14,
   "metadata": {
    "collapsed": false
   },
   "outputs": [
    {
     "data": {
      "text/plain": [
       "0                             great tutu-  not cheaply made\n",
       "1                                               very cute!!\n",
       "2                                  i have buy more than one\n",
       "                                ...                        \n",
       "278674                 convenient, lightweight, and durable\n",
       "278675                     holds up well in real world test\n",
       "278676    don't travel? still way too useful for 'averag...\n",
       "Name: summary, dtype: object"
      ]
     },
     "execution_count": 14,
     "metadata": {},
     "output_type": "execute_result"
    }
   ],
   "source": [
    "df.summary.str.lower()"
   ]
  },
  {
   "cell_type": "code",
   "execution_count": 15,
   "metadata": {
    "collapsed": false
   },
   "outputs": [
    {
     "data": {
      "text/plain": [
       "0                             GREAT TUTU-  NOT CHEAPLY MADE\n",
       "1                                               VERY CUTE!!\n",
       "2                                  I HAVE BUY MORE THAN ONE\n",
       "                                ...                        \n",
       "278674                 CONVENIENT, LIGHTWEIGHT, AND DURABLE\n",
       "278675                     HOLDS UP WELL IN REAL WORLD TEST\n",
       "278676    DON'T TRAVEL? STILL WAY TOO USEFUL FOR 'AVERAG...\n",
       "Name: summary, dtype: object"
      ]
     },
     "execution_count": 15,
     "metadata": {},
     "output_type": "execute_result"
    }
   ],
   "source": [
    "df.summary.str.upper()"
   ]
  },
  {
   "cell_type": "code",
   "execution_count": 16,
   "metadata": {
    "collapsed": true
   },
   "outputs": [],
   "source": [
    "pattern = 'durable'"
   ]
  },
  {
   "cell_type": "code",
   "execution_count": 17,
   "metadata": {
    "collapsed": false
   },
   "outputs": [
    {
     "data": {
      "text/plain": [
       "0         False\n",
       "1         False\n",
       "2         False\n",
       "          ...  \n",
       "278674     True\n",
       "278675    False\n",
       "278676    False\n",
       "Name: summary, dtype: bool"
      ]
     },
     "execution_count": 17,
     "metadata": {},
     "output_type": "execute_result"
    }
   ],
   "source": [
    "df.summary.str.contains(pattern)"
   ]
  },
  {
   "cell_type": "markdown",
   "metadata": {},
   "source": [
    "## Working with timeseries data"
   ]
  },
  {
   "cell_type": "markdown",
   "metadata": {},
   "source": [
    "### .dt accessor"
   ]
  },
  {
   "cell_type": "code",
   "execution_count": 18,
   "metadata": {
    "collapsed": false
   },
   "outputs": [
    {
     "data": {
      "text/plain": [
       "0         5\n",
       "1         5\n",
       "2         4\n",
       "         ..\n",
       "278674    6\n",
       "278675    0\n",
       "278676    0\n",
       "Name: unixReviewTime, dtype: int64"
      ]
     },
     "execution_count": 18,
     "metadata": {},
     "output_type": "execute_result"
    }
   ],
   "source": [
    "df.unixReviewTime.dt.dayofweek"
   ]
  },
  {
   "cell_type": "code",
   "execution_count": 19,
   "metadata": {
    "collapsed": false
   },
   "outputs": [
    {
     "data": {
      "text/plain": [
       "0          6\n",
       "1          3\n",
       "2          1\n",
       "          ..\n",
       "278674    23\n",
       "278675    28\n",
       "278676    26\n",
       "Name: unixReviewTime, dtype: int64"
      ]
     },
     "execution_count": 19,
     "metadata": {},
     "output_type": "execute_result"
    }
   ],
   "source": [
    "df.unixReviewTime.dt.weekofyear"
   ]
  },
  {
   "cell_type": "markdown",
   "metadata": {},
   "source": [
    "### EXERCISE: Retrieve in what quarter of the year was each review written"
   ]
  },
  {
   "cell_type": "code",
   "execution_count": 20,
   "metadata": {
    "collapsed": true
   },
   "outputs": [],
   "source": [
    "# Your code here"
   ]
  },
  {
   "cell_type": "code",
   "execution_count": 21,
   "metadata": {
    "collapsed": false
   },
   "outputs": [
    {
     "data": {
      "text/plain": [
       "0         1\n",
       "1         1\n",
       "2         1\n",
       "         ..\n",
       "278674    2\n",
       "278675    3\n",
       "278676    2\n",
       "Name: unixReviewTime, dtype: int64"
      ]
     },
     "execution_count": 21,
     "metadata": {},
     "output_type": "execute_result"
    }
   ],
   "source": [
    "df.unixReviewTime.dt.quarter"
   ]
  },
  {
   "cell_type": "markdown",
   "metadata": {},
   "source": [
    "## Boolean Indexing"
   ]
  },
  {
   "cell_type": "markdown",
   "metadata": {},
   "source": [
    "Like a where clause in SQL, you can filter the dataframe with a boolean index, e.g."
   ]
  },
  {
   "cell_type": "code",
   "execution_count": 22,
   "metadata": {
    "collapsed": false
   },
   "outputs": [
    {
     "data": {
      "text/plain": [
       "0         False\n",
       "1         False\n",
       "2         False\n",
       "          ...  \n",
       "278674    False\n",
       "278675    False\n",
       "278676    False\n",
       "Name: overall, dtype: bool"
      ]
     },
     "execution_count": 22,
     "metadata": {},
     "output_type": "execute_result"
    }
   ],
   "source": [
    "df.overall < 5"
   ]
  },
  {
   "cell_type": "code",
   "execution_count": 23,
   "metadata": {
    "collapsed": false
   },
   "outputs": [
    {
     "data": {
      "text/html": [
       "<div>\n",
       "<table border=\"1\" class=\"dataframe\">\n",
       "  <thead>\n",
       "    <tr style=\"text-align: right;\">\n",
       "      <th></th>\n",
       "      <th>asin</th>\n",
       "      <th>helpful</th>\n",
       "      <th>overall</th>\n",
       "      <th>reviewText</th>\n",
       "      <th>...</th>\n",
       "      <th>reviewerID</th>\n",
       "      <th>reviewerName</th>\n",
       "      <th>summary</th>\n",
       "      <th>unixReviewTime</th>\n",
       "    </tr>\n",
       "  </thead>\n",
       "  <tbody>\n",
       "    <tr>\n",
       "      <th>5</th>\n",
       "      <td>0000031887</td>\n",
       "      <td>[0, 0]</td>\n",
       "      <td>4.0</td>\n",
       "      <td>I received this today and I'm not a fan of it ...</td>\n",
       "      <td>...</td>\n",
       "      <td>A27UF1MSF3DB2</td>\n",
       "      <td>C-Lo \"Cynthia\"</td>\n",
       "      <td>It's ok</td>\n",
       "      <td>2014-03-31</td>\n",
       "    </tr>\n",
       "    <tr>\n",
       "      <th>8</th>\n",
       "      <td>0000031887</td>\n",
       "      <td>[0, 0]</td>\n",
       "      <td>4.0</td>\n",
       "      <td>My daughter liked this, and it with her costum...</td>\n",
       "      <td>...</td>\n",
       "      <td>A1NJ71X3YPQNQ9</td>\n",
       "      <td>JBerger</td>\n",
       "      <td>Good</td>\n",
       "      <td>2013-11-10</td>\n",
       "    </tr>\n",
       "    <tr>\n",
       "      <th>15</th>\n",
       "      <td>0000031887</td>\n",
       "      <td>[0, 0]</td>\n",
       "      <td>3.0</td>\n",
       "      <td>My 3yr old loved this tutu skirt in pink! Was ...</td>\n",
       "      <td>...</td>\n",
       "      <td>A26A4KKLAVTMCC</td>\n",
       "      <td>Moonlight</td>\n",
       "      <td>Came apart in 2weeks!</td>\n",
       "      <td>2014-03-20</td>\n",
       "    </tr>\n",
       "    <tr>\n",
       "      <th>...</th>\n",
       "      <td>...</td>\n",
       "      <td>...</td>\n",
       "      <td>...</td>\n",
       "      <td>...</td>\n",
       "      <td>...</td>\n",
       "      <td>...</td>\n",
       "      <td>...</td>\n",
       "      <td>...</td>\n",
       "      <td>...</td>\n",
       "    </tr>\n",
       "    <tr>\n",
       "      <th>278657</th>\n",
       "      <td>B00KF9180W</td>\n",
       "      <td>[4, 5]</td>\n",
       "      <td>4.0</td>\n",
       "      <td>I go walking a lot in all kinds of weather and...</td>\n",
       "      <td>...</td>\n",
       "      <td>A1EVV74UQYVKRY</td>\n",
       "      <td>K. Groh</td>\n",
       "      <td>Great for Winter or Chilly Walks</td>\n",
       "      <td>2014-06-16</td>\n",
       "    </tr>\n",
       "    <tr>\n",
       "      <th>278662</th>\n",
       "      <td>B00KF9180W</td>\n",
       "      <td>[2, 3]</td>\n",
       "      <td>4.0</td>\n",
       "      <td>Nice material, but not as nice as  silk or mer...</td>\n",
       "      <td>...</td>\n",
       "      <td>A3UJRNI8UR4871</td>\n",
       "      <td>Wulfstan \"wulfstan\"</td>\n",
       "      <td>Lightweight &amp; useful</td>\n",
       "      <td>2014-06-09</td>\n",
       "    </tr>\n",
       "    <tr>\n",
       "      <th>278663</th>\n",
       "      <td>B00KGCLROK</td>\n",
       "      <td>[1, 1]</td>\n",
       "      <td>2.0</td>\n",
       "      <td>These were a free sample for review.  I was ex...</td>\n",
       "      <td>...</td>\n",
       "      <td>A34BZM6S9L7QI4</td>\n",
       "      <td>Candy Cane \"Is it just me?\"</td>\n",
       "      <td>Wanted to love these</td>\n",
       "      <td>2014-06-21</td>\n",
       "    </tr>\n",
       "  </tbody>\n",
       "</table>\n",
       "<p>115437 rows × 9 columns</p>\n",
       "</div>"
      ],
      "text/plain": [
       "              asin helpful  overall                                         reviewText  \\\n",
       "5       0000031887  [0, 0]      4.0  I received this today and I'm not a fan of it ...   \n",
       "8       0000031887  [0, 0]      4.0  My daughter liked this, and it with her costum...   \n",
       "15      0000031887  [0, 0]      3.0  My 3yr old loved this tutu skirt in pink! Was ...   \n",
       "...            ...     ...      ...                                                ...   \n",
       "278657  B00KF9180W  [4, 5]      4.0  I go walking a lot in all kinds of weather and...   \n",
       "278662  B00KF9180W  [2, 3]      4.0  Nice material, but not as nice as  silk or mer...   \n",
       "278663  B00KGCLROK  [1, 1]      2.0  These were a free sample for review.  I was ex...   \n",
       "\n",
       "            ...            reviewerID                 reviewerName  \\\n",
       "5           ...         A27UF1MSF3DB2               C-Lo \"Cynthia\"   \n",
       "8           ...        A1NJ71X3YPQNQ9                      JBerger   \n",
       "15          ...        A26A4KKLAVTMCC                    Moonlight   \n",
       "...         ...                   ...                          ...   \n",
       "278657      ...        A1EVV74UQYVKRY                      K. Groh   \n",
       "278662      ...        A3UJRNI8UR4871          Wulfstan \"wulfstan\"   \n",
       "278663      ...        A34BZM6S9L7QI4  Candy Cane \"Is it just me?\"   \n",
       "\n",
       "                                 summary unixReviewTime  \n",
       "5                                It's ok     2014-03-31  \n",
       "8                                   Good     2013-11-10  \n",
       "15                 Came apart in 2weeks!     2014-03-20  \n",
       "...                                  ...            ...  \n",
       "278657  Great for Winter or Chilly Walks     2014-06-16  \n",
       "278662              Lightweight & useful     2014-06-09  \n",
       "278663              Wanted to love these     2014-06-21  \n",
       "\n",
       "[115437 rows x 9 columns]"
      ]
     },
     "execution_count": 23,
     "metadata": {},
     "output_type": "execute_result"
    }
   ],
   "source": [
    "df[df.overall < 5]"
   ]
  },
  {
   "cell_type": "markdown",
   "metadata": {},
   "source": [
    "Notice that we just used [ ] there. We can pass the boolean indexer in to .loc as well."
   ]
  },
  {
   "cell_type": "code",
   "execution_count": 24,
   "metadata": {
    "collapsed": false
   },
   "outputs": [
    {
     "data": {
      "text/html": [
       "<div>\n",
       "<table border=\"1\" class=\"dataframe\">\n",
       "  <thead>\n",
       "    <tr style=\"text-align: right;\">\n",
       "      <th></th>\n",
       "      <th>overall</th>\n",
       "      <th>reviewText</th>\n",
       "    </tr>\n",
       "  </thead>\n",
       "  <tbody>\n",
       "    <tr>\n",
       "      <th>5</th>\n",
       "      <td>4.0</td>\n",
       "      <td>I received this today and I'm not a fan of it ...</td>\n",
       "    </tr>\n",
       "    <tr>\n",
       "      <th>8</th>\n",
       "      <td>4.0</td>\n",
       "      <td>My daughter liked this, and it with her costum...</td>\n",
       "    </tr>\n",
       "    <tr>\n",
       "      <th>15</th>\n",
       "      <td>3.0</td>\n",
       "      <td>My 3yr old loved this tutu skirt in pink! Was ...</td>\n",
       "    </tr>\n",
       "    <tr>\n",
       "      <th>...</th>\n",
       "      <td>...</td>\n",
       "      <td>...</td>\n",
       "    </tr>\n",
       "    <tr>\n",
       "      <th>278657</th>\n",
       "      <td>4.0</td>\n",
       "      <td>I go walking a lot in all kinds of weather and...</td>\n",
       "    </tr>\n",
       "    <tr>\n",
       "      <th>278662</th>\n",
       "      <td>4.0</td>\n",
       "      <td>Nice material, but not as nice as  silk or mer...</td>\n",
       "    </tr>\n",
       "    <tr>\n",
       "      <th>278663</th>\n",
       "      <td>2.0</td>\n",
       "      <td>These were a free sample for review.  I was ex...</td>\n",
       "    </tr>\n",
       "  </tbody>\n",
       "</table>\n",
       "<p>115437 rows × 2 columns</p>\n",
       "</div>"
      ],
      "text/plain": [
       "        overall                                         reviewText\n",
       "5           4.0  I received this today and I'm not a fan of it ...\n",
       "8           4.0  My daughter liked this, and it with her costum...\n",
       "15          3.0  My 3yr old loved this tutu skirt in pink! Was ...\n",
       "...         ...                                                ...\n",
       "278657      4.0  I go walking a lot in all kinds of weather and...\n",
       "278662      4.0  Nice material, but not as nice as  silk or mer...\n",
       "278663      2.0  These were a free sample for review.  I was ex...\n",
       "\n",
       "[115437 rows x 2 columns]"
      ]
     },
     "execution_count": 24,
     "metadata": {},
     "output_type": "execute_result"
    }
   ],
   "source": [
    "df.loc[df.overall < 5, ['overall', 'reviewText']]"
   ]
  },
  {
   "cell_type": "markdown",
   "metadata": {},
   "source": [
    "Select rows that have an overall rating of 5 and contain the word `awesome` in the reviewText or an overall rating of 1 and contain the word `terrible`"
   ]
  },
  {
   "cell_type": "code",
   "execution_count": 25,
   "metadata": {
    "collapsed": false
   },
   "outputs": [
    {
     "data": {
      "text/html": [
       "<div>\n",
       "<table border=\"1\" class=\"dataframe\">\n",
       "  <thead>\n",
       "    <tr style=\"text-align: right;\">\n",
       "      <th></th>\n",
       "      <th>overall</th>\n",
       "      <th>reviewText</th>\n",
       "    </tr>\n",
       "  </thead>\n",
       "  <tbody>\n",
       "    <tr>\n",
       "      <th>110</th>\n",
       "      <td>5.0</td>\n",
       "      <td>I travel 3 weeks a month and carry 2 50 lb bag...</td>\n",
       "    </tr>\n",
       "    <tr>\n",
       "      <th>376</th>\n",
       "      <td>5.0</td>\n",
       "      <td>Okay I love everything Converse. I already had...</td>\n",
       "    </tr>\n",
       "    <tr>\n",
       "      <th>387</th>\n",
       "      <td>5.0</td>\n",
       "      <td>DONT stop selling the low top of these chuck t...</td>\n",
       "    </tr>\n",
       "    <tr>\n",
       "      <th>...</th>\n",
       "      <td>...</td>\n",
       "      <td>...</td>\n",
       "    </tr>\n",
       "    <tr>\n",
       "      <th>278417</th>\n",
       "      <td>5.0</td>\n",
       "      <td>the product is awesome, i love it, it fit perf...</td>\n",
       "    </tr>\n",
       "    <tr>\n",
       "      <th>278627</th>\n",
       "      <td>5.0</td>\n",
       "      <td>I really was surprised at the quality of this ...</td>\n",
       "    </tr>\n",
       "    <tr>\n",
       "      <th>278672</th>\n",
       "      <td>5.0</td>\n",
       "      <td>I don't normally go ga-ga over a product very ...</td>\n",
       "    </tr>\n",
       "  </tbody>\n",
       "</table>\n",
       "<p>3362 rows × 2 columns</p>\n",
       "</div>"
      ],
      "text/plain": [
       "        overall                                         reviewText\n",
       "110         5.0  I travel 3 weeks a month and carry 2 50 lb bag...\n",
       "376         5.0  Okay I love everything Converse. I already had...\n",
       "387         5.0  DONT stop selling the low top of these chuck t...\n",
       "...         ...                                                ...\n",
       "278417      5.0  the product is awesome, i love it, it fit perf...\n",
       "278627      5.0  I really was surprised at the quality of this ...\n",
       "278672      5.0  I don't normally go ga-ga over a product very ...\n",
       "\n",
       "[3362 rows x 2 columns]"
      ]
     },
     "execution_count": 25,
     "metadata": {},
     "output_type": "execute_result"
    }
   ],
   "source": [
    "df.loc[((df.overall == 5) & (df.reviewText.str.contains('awesome'))) | ((df.overall == 1) & (df.reviewText.str.contains('terrible'))), ['overall', 'reviewText']] "
   ]
  },
  {
   "cell_type": "markdown",
   "metadata": {},
   "source": [
    "### EXERCISE: Select the rows that have an overall rating of 5, were rated on a Monday and contain the word `love` in the review"
   ]
  },
  {
   "cell_type": "code",
   "execution_count": 26,
   "metadata": {
    "collapsed": true
   },
   "outputs": [],
   "source": [
    "# Your code here"
   ]
  },
  {
   "cell_type": "markdown",
   "metadata": {},
   "source": [
    "## Indexing with `isin`"
   ]
  },
  {
   "cell_type": "markdown",
   "metadata": {},
   "source": [
    "Any method that returns a boolean array is potentially an indexer."
   ]
  },
  {
   "cell_type": "code",
   "execution_count": 27,
   "metadata": {
    "collapsed": true
   },
   "outputs": [],
   "source": [
    "products = df.asin.value_counts()"
   ]
  },
  {
   "cell_type": "code",
   "execution_count": 28,
   "metadata": {
    "collapsed": false
   },
   "outputs": [
    {
     "data": {
      "text/plain": [
       "B005LERHD8    441\n",
       "B005GYGD7O    286\n",
       "B008WYDP1C    249\n",
       "             ... \n",
       "B000IDCZXY      5\n",
       "B009FX067K      5\n",
       "B00B8PPAM4      5\n",
       "Name: asin, dtype: int64"
      ]
     },
     "execution_count": 28,
     "metadata": {},
     "output_type": "execute_result"
    }
   ],
   "source": [
    "products"
   ]
  },
  {
   "cell_type": "code",
   "execution_count": 29,
   "metadata": {
    "collapsed": false
   },
   "outputs": [
    {
     "data": {
      "text/plain": [
       "Index(['B005LERHD8', 'B005GYGD7O', 'B008WYDP1C'], dtype='object')"
      ]
     },
     "execution_count": 29,
     "metadata": {},
     "output_type": "execute_result"
    }
   ],
   "source": [
    "products[0:3].index"
   ]
  },
  {
   "cell_type": "markdown",
   "metadata": {},
   "source": [
    "Select rows that contain the top three reviewd products:"
   ]
  },
  {
   "cell_type": "code",
   "execution_count": 30,
   "metadata": {
    "collapsed": false
   },
   "outputs": [
    {
     "data": {
      "text/html": [
       "<div>\n",
       "<table border=\"1\" class=\"dataframe\">\n",
       "  <thead>\n",
       "    <tr style=\"text-align: right;\">\n",
       "      <th></th>\n",
       "      <th>asin</th>\n",
       "      <th>helpful</th>\n",
       "      <th>overall</th>\n",
       "      <th>reviewText</th>\n",
       "      <th>...</th>\n",
       "      <th>reviewerID</th>\n",
       "      <th>reviewerName</th>\n",
       "      <th>summary</th>\n",
       "      <th>unixReviewTime</th>\n",
       "    </tr>\n",
       "  </thead>\n",
       "  <tbody>\n",
       "    <tr>\n",
       "      <th>157833</th>\n",
       "      <td>B005GYGD7O</td>\n",
       "      <td>[0, 0]</td>\n",
       "      <td>5.0</td>\n",
       "      <td>They fit good and haven't faded with washing t...</td>\n",
       "      <td>...</td>\n",
       "      <td>AJC7MD2KBENFM</td>\n",
       "      <td>A. Customer \"rzhaus\"</td>\n",
       "      <td>Fit nicely</td>\n",
       "      <td>2013-09-12</td>\n",
       "    </tr>\n",
       "    <tr>\n",
       "      <th>157834</th>\n",
       "      <td>B005GYGD7O</td>\n",
       "      <td>[0, 0]</td>\n",
       "      <td>5.0</td>\n",
       "      <td>I Love these!  Love love love! However, I'm 5'...</td>\n",
       "      <td>...</td>\n",
       "      <td>A3GKPLXZB0OSAL</td>\n",
       "      <td>Agentf</td>\n",
       "      <td>Comfy</td>\n",
       "      <td>2014-01-30</td>\n",
       "    </tr>\n",
       "    <tr>\n",
       "      <th>157835</th>\n",
       "      <td>B005GYGD7O</td>\n",
       "      <td>[0, 0]</td>\n",
       "      <td>4.0</td>\n",
       "      <td>I wear these everyday and love them. Im very s...</td>\n",
       "      <td>...</td>\n",
       "      <td>A34Z9I3XYZOFYO</td>\n",
       "      <td>A</td>\n",
       "      <td>I love these things</td>\n",
       "      <td>2013-04-11</td>\n",
       "    </tr>\n",
       "    <tr>\n",
       "      <th>...</th>\n",
       "      <td>...</td>\n",
       "      <td>...</td>\n",
       "      <td>...</td>\n",
       "      <td>...</td>\n",
       "      <td>...</td>\n",
       "      <td>...</td>\n",
       "      <td>...</td>\n",
       "      <td>...</td>\n",
       "      <td>...</td>\n",
       "    </tr>\n",
       "    <tr>\n",
       "      <th>220690</th>\n",
       "      <td>B008WYDP1C</td>\n",
       "      <td>[0, 0]</td>\n",
       "      <td>5.0</td>\n",
       "      <td>My daughter loves skulls.  This is her favorit...</td>\n",
       "      <td>...</td>\n",
       "      <td>A2TBRNEND7JX7Y</td>\n",
       "      <td>Yolanda Robinson</td>\n",
       "      <td>For Skull Lovers</td>\n",
       "      <td>2014-02-20</td>\n",
       "    </tr>\n",
       "    <tr>\n",
       "      <th>220691</th>\n",
       "      <td>B008WYDP1C</td>\n",
       "      <td>[0, 0]</td>\n",
       "      <td>5.0</td>\n",
       "      <td>As others have said, order a size up and you'l...</td>\n",
       "      <td>...</td>\n",
       "      <td>AHWMPK2YH6KZ9</td>\n",
       "      <td>Zexxa</td>\n",
       "      <td>Very Cute</td>\n",
       "      <td>2014-02-12</td>\n",
       "    </tr>\n",
       "    <tr>\n",
       "      <th>220692</th>\n",
       "      <td>B008WYDP1C</td>\n",
       "      <td>[41, 43]</td>\n",
       "      <td>5.0</td>\n",
       "      <td>I love this shirt... im a bigger girl.. size 1...</td>\n",
       "      <td>...</td>\n",
       "      <td>A1GNT2M55STQV6</td>\n",
       "      <td>ZombiebaitXXX</td>\n",
       "      <td>Love this shirt.. soo comfy</td>\n",
       "      <td>2013-03-20</td>\n",
       "    </tr>\n",
       "  </tbody>\n",
       "</table>\n",
       "<p>976 rows × 9 columns</p>\n",
       "</div>"
      ],
      "text/plain": [
       "              asin   helpful  overall                                         reviewText  \\\n",
       "157833  B005GYGD7O    [0, 0]      5.0  They fit good and haven't faded with washing t...   \n",
       "157834  B005GYGD7O    [0, 0]      5.0  I Love these!  Love love love! However, I'm 5'...   \n",
       "157835  B005GYGD7O    [0, 0]      4.0  I wear these everyday and love them. Im very s...   \n",
       "...            ...       ...      ...                                                ...   \n",
       "220690  B008WYDP1C    [0, 0]      5.0  My daughter loves skulls.  This is her favorit...   \n",
       "220691  B008WYDP1C    [0, 0]      5.0  As others have said, order a size up and you'l...   \n",
       "220692  B008WYDP1C  [41, 43]      5.0  I love this shirt... im a bigger girl.. size 1...   \n",
       "\n",
       "            ...            reviewerID          reviewerName                      summary  \\\n",
       "157833      ...         AJC7MD2KBENFM  A. Customer \"rzhaus\"                   Fit nicely   \n",
       "157834      ...        A3GKPLXZB0OSAL                Agentf                        Comfy   \n",
       "157835      ...        A34Z9I3XYZOFYO                     A          I love these things   \n",
       "...         ...                   ...                   ...                          ...   \n",
       "220690      ...        A2TBRNEND7JX7Y      Yolanda Robinson             For Skull Lovers   \n",
       "220691      ...         AHWMPK2YH6KZ9                 Zexxa                    Very Cute   \n",
       "220692      ...        A1GNT2M55STQV6         ZombiebaitXXX  Love this shirt.. soo comfy   \n",
       "\n",
       "       unixReviewTime  \n",
       "157833     2013-09-12  \n",
       "157834     2014-01-30  \n",
       "157835     2013-04-11  \n",
       "...               ...  \n",
       "220690     2014-02-20  \n",
       "220691     2014-02-12  \n",
       "220692     2013-03-20  \n",
       "\n",
       "[976 rows x 9 columns]"
      ]
     },
     "execution_count": 30,
     "metadata": {},
     "output_type": "execute_result"
    }
   ],
   "source": [
    "df[df.asin.isin(products[0:3].index)]"
   ]
  },
  {
   "cell_type": "markdown",
   "metadata": {},
   "source": [
    "### EXERCISE: Select the rows that where reviewed during the most popular date to review"
   ]
  },
  {
   "cell_type": "code",
   "execution_count": 31,
   "metadata": {
    "collapsed": true
   },
   "outputs": [],
   "source": [
    "# Your code here"
   ]
  },
  {
   "cell_type": "code",
   "execution_count": 32,
   "metadata": {
    "collapsed": true
   },
   "outputs": [],
   "source": [
    "days = df.unixReviewTime.value_counts()"
   ]
  },
  {
   "cell_type": "code",
   "execution_count": 33,
   "metadata": {
    "collapsed": false
   },
   "outputs": [
    {
     "data": {
      "text/plain": [
       "2013-12-26    918\n",
       "2013-12-31    827\n",
       "2014-01-08    803\n",
       "             ... \n",
       "2006-11-13      1\n",
       "2007-11-21      1\n",
       "2007-01-18      1\n",
       "Name: unixReviewTime, dtype: int64"
      ]
     },
     "execution_count": 33,
     "metadata": {},
     "output_type": "execute_result"
    }
   ],
   "source": [
    "days"
   ]
  },
  {
   "cell_type": "code",
   "execution_count": 34,
   "metadata": {
    "collapsed": false
   },
   "outputs": [
    {
     "data": {
      "text/html": [
       "<div>\n",
       "<table border=\"1\" class=\"dataframe\">\n",
       "  <thead>\n",
       "    <tr style=\"text-align: right;\">\n",
       "      <th></th>\n",
       "      <th>asin</th>\n",
       "      <th>helpful</th>\n",
       "      <th>overall</th>\n",
       "      <th>reviewText</th>\n",
       "      <th>...</th>\n",
       "      <th>reviewerID</th>\n",
       "      <th>reviewerName</th>\n",
       "      <th>summary</th>\n",
       "      <th>unixReviewTime</th>\n",
       "    </tr>\n",
       "  </thead>\n",
       "  <tbody>\n",
       "    <tr>\n",
       "      <th>67</th>\n",
       "      <td>B00001WRHJ</td>\n",
       "      <td>[1, 1]</td>\n",
       "      <td>4.0</td>\n",
       "      <td>My grandson is 5 and I gave him this for Chris...</td>\n",
       "      <td>...</td>\n",
       "      <td>A15LON8ZV0GJXD</td>\n",
       "      <td>Carolyn Sutter</td>\n",
       "      <td>Great for costume-loving kid</td>\n",
       "      <td>2013-12-26</td>\n",
       "    </tr>\n",
       "    <tr>\n",
       "      <th>424</th>\n",
       "      <td>B000072UMJ</td>\n",
       "      <td>[0, 0]</td>\n",
       "      <td>5.0</td>\n",
       "      <td>Unlike what other reviewers said, this shoe is...</td>\n",
       "      <td>...</td>\n",
       "      <td>A1EOMH79B2ES81</td>\n",
       "      <td>Neg8iveZero</td>\n",
       "      <td>Weird sizing on the tag...</td>\n",
       "      <td>2013-12-26</td>\n",
       "    </tr>\n",
       "    <tr>\n",
       "      <th>733</th>\n",
       "      <td>B0000868O9</td>\n",
       "      <td>[0, 0]</td>\n",
       "      <td>5.0</td>\n",
       "      <td>The Bali Flower Underwire Bra is the most worn...</td>\n",
       "      <td>...</td>\n",
       "      <td>A1BB7FU96CZK8R</td>\n",
       "      <td>d b pressley</td>\n",
       "      <td>Bali Bras definitely have flower power for me</td>\n",
       "      <td>2013-12-26</td>\n",
       "    </tr>\n",
       "    <tr>\n",
       "      <th>...</th>\n",
       "      <td>...</td>\n",
       "      <td>...</td>\n",
       "      <td>...</td>\n",
       "      <td>...</td>\n",
       "      <td>...</td>\n",
       "      <td>...</td>\n",
       "      <td>...</td>\n",
       "      <td>...</td>\n",
       "      <td>...</td>\n",
       "    </tr>\n",
       "    <tr>\n",
       "      <th>275455</th>\n",
       "      <td>B00GCGIMM4</td>\n",
       "      <td>[2, 2]</td>\n",
       "      <td>4.0</td>\n",
       "      <td>But they are a bit small as her toes are barel...</td>\n",
       "      <td>...</td>\n",
       "      <td>ADQMQUP274GRQ</td>\n",
       "      <td>caroline hartenberger</td>\n",
       "      <td>daughter loves the boots</td>\n",
       "      <td>2013-12-26</td>\n",
       "    </tr>\n",
       "    <tr>\n",
       "      <th>275775</th>\n",
       "      <td>B00GKC1KC4</td>\n",
       "      <td>[0, 1]</td>\n",
       "      <td>4.0</td>\n",
       "      <td>I ordered this dress based on the size chart a...</td>\n",
       "      <td>...</td>\n",
       "      <td>A1P74Y4JKELC32</td>\n",
       "      <td>The Shoe Collector</td>\n",
       "      <td>Red Miusol Keyhole Dress</td>\n",
       "      <td>2013-12-26</td>\n",
       "    </tr>\n",
       "    <tr>\n",
       "      <th>277312</th>\n",
       "      <td>B00HVWSQG0</td>\n",
       "      <td>[0, 0]</td>\n",
       "      <td>5.0</td>\n",
       "      <td>I wish i could get these in black too!  I am l...</td>\n",
       "      <td>...</td>\n",
       "      <td>A38CFDLFA780FL</td>\n",
       "      <td>Katherine</td>\n",
       "      <td>great socks!</td>\n",
       "      <td>2013-12-26</td>\n",
       "    </tr>\n",
       "  </tbody>\n",
       "</table>\n",
       "<p>918 rows × 9 columns</p>\n",
       "</div>"
      ],
      "text/plain": [
       "              asin helpful  overall                                         reviewText  \\\n",
       "67      B00001WRHJ  [1, 1]      4.0  My grandson is 5 and I gave him this for Chris...   \n",
       "424     B000072UMJ  [0, 0]      5.0  Unlike what other reviewers said, this shoe is...   \n",
       "733     B0000868O9  [0, 0]      5.0  The Bali Flower Underwire Bra is the most worn...   \n",
       "...            ...     ...      ...                                                ...   \n",
       "275455  B00GCGIMM4  [2, 2]      4.0  But they are a bit small as her toes are barel...   \n",
       "275775  B00GKC1KC4  [0, 1]      4.0  I ordered this dress based on the size chart a...   \n",
       "277312  B00HVWSQG0  [0, 0]      5.0  I wish i could get these in black too!  I am l...   \n",
       "\n",
       "            ...            reviewerID           reviewerName  \\\n",
       "67          ...        A15LON8ZV0GJXD         Carolyn Sutter   \n",
       "424         ...        A1EOMH79B2ES81            Neg8iveZero   \n",
       "733         ...        A1BB7FU96CZK8R           d b pressley   \n",
       "...         ...                   ...                    ...   \n",
       "275455      ...         ADQMQUP274GRQ  caroline hartenberger   \n",
       "275775      ...        A1P74Y4JKELC32     The Shoe Collector   \n",
       "277312      ...        A38CFDLFA780FL              Katherine   \n",
       "\n",
       "                                              summary unixReviewTime  \n",
       "67                       Great for costume-loving kid     2013-12-26  \n",
       "424                        Weird sizing on the tag...     2013-12-26  \n",
       "733     Bali Bras definitely have flower power for me     2013-12-26  \n",
       "...                                               ...            ...  \n",
       "275455                       daughter loves the boots     2013-12-26  \n",
       "275775                       Red Miusol Keyhole Dress     2013-12-26  \n",
       "277312                                   great socks!     2013-12-26  \n",
       "\n",
       "[918 rows x 9 columns]"
      ]
     },
     "execution_count": 34,
     "metadata": {},
     "output_type": "execute_result"
    }
   ],
   "source": [
    "df[df.unixReviewTime.isin(days[0:1].index)]"
   ]
  },
  {
   "cell_type": "markdown",
   "metadata": {},
   "source": [
    "## Grouping"
   ]
  },
  {
   "cell_type": "markdown",
   "metadata": {},
   "source": [
    "http://pandas.pydata.org/pandas-docs/stable/groupby.html"
   ]
  },
  {
   "cell_type": "markdown",
   "metadata": {},
   "source": [
    "The components of a groupby operation are to\n",
    "- Split a table into groups\n",
    "- Apply a function to each groups\n",
    "- Combine the results\n",
    "\n",
    "```\n",
    "df.groupby( grouper ).agg('mean')\n",
    "```"
   ]
  },
  {
   "cell_type": "code",
   "execution_count": 35,
   "metadata": {
    "collapsed": false
   },
   "outputs": [
    {
     "data": {
      "text/plain": [
       "asin\n",
       "B006H30LJY      5\n",
       "B004CP7804      5\n",
       "B004CPEIXE      5\n",
       "             ... \n",
       "B008WYDP1C    249\n",
       "B005GYGD7O    286\n",
       "B005LERHD8    441\n",
       "Name: reviewText, dtype: int64"
      ]
     },
     "execution_count": 35,
     "metadata": {},
     "output_type": "execute_result"
    }
   ],
   "source": [
    "df.groupby('asin')['reviewText'].agg('count').sort_values()"
   ]
  },
  {
   "cell_type": "markdown",
   "metadata": {},
   "source": [
    "### EXERCISE: Compute the average rating per product"
   ]
  },
  {
   "cell_type": "code",
   "execution_count": 36,
   "metadata": {
    "collapsed": true
   },
   "outputs": [],
   "source": [
    "# Your code here"
   ]
  },
  {
   "cell_type": "markdown",
   "metadata": {},
   "source": [
    "### EXERCISE: Compute the average rating per user"
   ]
  },
  {
   "cell_type": "code",
   "execution_count": 37,
   "metadata": {
    "collapsed": true
   },
   "outputs": [],
   "source": [
    "# Your code here"
   ]
  },
  {
   "cell_type": "markdown",
   "metadata": {},
   "source": [
    "### EXERCISE: Compute the average number of ratings per day of the week"
   ]
  },
  {
   "cell_type": "code",
   "execution_count": 38,
   "metadata": {
    "collapsed": true
   },
   "outputs": [],
   "source": [
    "# Your code here"
   ]
  },
  {
   "cell_type": "markdown",
   "metadata": {},
   "source": [
    "### EXERCISE: Compute the standard deviation rating per product"
   ]
  },
  {
   "cell_type": "code",
   "execution_count": 39,
   "metadata": {
    "collapsed": true
   },
   "outputs": [],
   "source": [
    "# Your code here"
   ]
  },
  {
   "cell_type": "markdown",
   "metadata": {},
   "source": [
    "You may need to specify a bit more data to properly group. You can use the pd.Grouper to provide this local control."
   ]
  },
  {
   "cell_type": "code",
   "execution_count": 40,
   "metadata": {
    "collapsed": false
   },
   "outputs": [
    {
     "data": {
      "text/plain": [
       "unixReviewTime\n",
       "2003-03-29      1\n",
       "2003-12-12      1\n",
       "2004-07-17      1\n",
       "             ... \n",
       "2014-07-21    120\n",
       "2014-07-22    107\n",
       "2014-07-23      3\n",
       "Name: reviewerID, dtype: int64"
      ]
     },
     "execution_count": 40,
     "metadata": {},
     "output_type": "execute_result"
    }
   ],
   "source": [
    "df.groupby([pd.Grouper(key='unixReviewTime',freq='D')])['reviewerID'].count()"
   ]
  },
  {
   "cell_type": "code",
   "execution_count": 41,
   "metadata": {
    "collapsed": false
   },
   "outputs": [
    {
     "data": {
      "text/plain": [
       "unixReviewTime\n",
       "2003-03-31        1\n",
       "2003-12-31        1\n",
       "2004-07-31        1\n",
       "              ...  \n",
       "2014-05-31    14157\n",
       "2014-06-30    12987\n",
       "2014-07-31     8858\n",
       "Name: reviewerID, dtype: int64"
      ]
     },
     "execution_count": 41,
     "metadata": {},
     "output_type": "execute_result"
    }
   ],
   "source": [
    "df.groupby([pd.Grouper(key='unixReviewTime',freq='M')])['reviewerID'].count()"
   ]
  },
  {
   "cell_type": "markdown",
   "metadata": {},
   "source": [
    "## Plotting"
   ]
  },
  {
   "cell_type": "code",
   "execution_count": 42,
   "metadata": {
    "collapsed": true
   },
   "outputs": [],
   "source": [
    "%matplotlib inline\n",
    "import seaborn as sns; sns.set()"
   ]
  },
  {
   "cell_type": "code",
   "execution_count": 43,
   "metadata": {
    "collapsed": false
   },
   "outputs": [
    {
     "data": {
      "text/plain": [
       "<matplotlib.axes._subplots.AxesSubplot at 0x119db2d30>"
      ]
     },
     "execution_count": 43,
     "metadata": {},
     "output_type": "execute_result"
    },
    {
     "data": {
      "image/png": "[encoded data removed]",
      "text/plain": [
       "<matplotlib.figure.Figure at 0x119db2128>"
      ]
     },
     "metadata": {},
     "output_type": "display_data"
    }
   ],
   "source": [
    "df.groupby([pd.Grouper(key='unixReviewTime',freq='A')])['reviewerID'].count().plot(figsize=(6,6))"
   ]
  },
  {
   "cell_type": "markdown",
   "metadata": {},
   "source": [
    "### EXERCISE: Plot the number of reviews timeseries by month, year"
   ]
  },
  {
   "cell_type": "code",
   "execution_count": 44,
   "metadata": {
    "collapsed": true
   },
   "outputs": [],
   "source": [
    "# Your code here"
   ]
  },
  {
   "cell_type": "markdown",
   "metadata": {},
   "source": [
    "### EXERCISE: Draw two plots to compare average review rating per day of the week between 2013 and 2014"
   ]
  },
  {
   "cell_type": "code",
   "execution_count": 45,
   "metadata": {
    "collapsed": true
   },
   "outputs": [],
   "source": [
    "# Your code here"
   ]
  },
  {
   "cell_type": "code",
   "execution_count": 47,
   "metadata": {
    "collapsed": false
   },
   "outputs": [
    {
     "data": {
      "image/png": "[encoded data removed]",
      "text/plain": [
       "<matplotlib.figure.Figure at 0x119ff7f98>"
      ]
     },
     "metadata": {},
     "output_type": "display_data"
    }
   ],
   "source": [
    "import matplotlib.pyplot as plt\n",
    "\n",
    "by_weekday = df.groupby([df.unixReviewTime.dt.year,\n",
    "                              df.unixReviewTime.dt.dayofweek]).mean()\n",
    "by_weekday.columns.name = None  # remove label for plot\n",
    "\n",
    "fig, ax = plt.subplots(1, 2, figsize=(16, 6), sharey=True)\n",
    "by_weekday.loc[2013].plot(title='Average Reviews Rating by Day of Week (2013)', ax=ax[0]);\n",
    "by_weekday.loc[2014].plot(title='Average Reviews Rating by Day of Week (2014)', ax=ax[1]);\n",
    "for axi in ax:\n",
    "    axi.set_xticklabels(['Mon', 'Tues', 'Wed', 'Thurs', 'Fri', 'Sat', 'Sun'])"
   ]
  },
  {
   "cell_type": "markdown",
   "metadata": {},
   "source": [
    "### EXERCISE: Draw two plots to compare number of  reviews per day of the month between 2012 and 2013"
   ]
  },
  {
   "cell_type": "code",
   "execution_count": 50,
   "metadata": {
    "collapsed": false
   },
   "outputs": [
    {
     "data": {
      "image/png": "[encoded data removed]",
      "text/plain": [
       "<matplotlib.figure.Figure at 0x11a47fb38>"
      ]
     },
     "metadata": {},
     "output_type": "display_data"
    }
   ],
   "source": [
    "import matplotlib.pyplot as plt\n",
    "\n",
    "by_month = df.groupby([df.unixReviewTime.dt.year,\n",
    "                              df.unixReviewTime.dt.day])['reviewerID'].count()\n",
    "\n",
    "fig, ax = plt.subplots(1, 2, figsize=(16, 6), sharey=True)\n",
    "by_month.loc[2012].plot(title='Average Reviews by Month (2012)', ax=ax[0]);\n",
    "by_month.loc[2013].plot(title='Average Reviews by Month (2013)', ax=ax[1]);"
   ]
  },
  {
   "cell_type": "markdown",
   "metadata": {},
   "source": [
    "## Summary"
   ]
  },
  {
   "cell_type": "markdown",
   "metadata": {},
   "source": [
    "### Learning objectives:\n",
    "\n",
    "- Reading and writing data\n",
    "```\n",
    "pd.DataFrame()\n",
    "pd.read_json()\n",
    "pd.read_csv()\n",
    "df.to_csv()\n",
    "df.to_json()\n",
    "...\n",
    "```\n",
    "\n",
    "- Understading and formatting pandas data types\n",
    "```\n",
    "df.info()\n",
    "df.to_datetime()\n",
    "df.to_categoricals()\n",
    "...\n",
    "```\n",
    "\n",
    "- Working with text data\n",
    "```\n",
    ".str accessor\n",
    ".str.len()\n",
    "...\n",
    "```\n",
    "    \n",
    "- Working with timeseries data\n",
    "```\n",
    ".dt accessor\n",
    ".str.dayofweek\n",
    "...\n",
    "```\n",
    "\n",
    "- Indexing\n",
    "```\n",
    "df.loc[]\n",
    "df.iloc[]\n",
    ".isin()\n",
    "```\n",
    "\n",
    "- Grouping\n",
    "```\n",
    "df.groupby(grouper).agg('mean')\n",
    "...\n",
    "```"
   ]
  }
 ],
 "metadata": {
  "kernelspec": {
   "display_name": "Python 3",
   "language": "python",
   "name": "python3"
  },
  "language_info": {
   "codemirror_mode": {
    "name": "ipython",
    "version": 3
   },
   "file_extension": ".py",
   "mimetype": "text/x-python",
   "name": "python",
   "nbconvert_exporter": "python",
   "pygments_lexer": "ipython3",
   "version": "3.4.4"
  }
 },
 "nbformat": 4,
 "nbformat_minor": 0
}
